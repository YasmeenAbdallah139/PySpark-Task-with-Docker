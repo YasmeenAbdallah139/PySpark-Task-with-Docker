{
  "cells": [
    {
      "cell_type": "code",
      "execution_count": 1,
      "metadata": {
        "id": "I-CmCGJiWkzp"
      },
      "outputs": [],
      "source": [
        "from pyspark.sql import SparkSession\n",
        "from pyspark.sql import Row\n",
        "import  pyspark.sql.functions as fun\n",
        "import numpy as np\n",
        "from pyspark.sql.types import *"
      ]
    },
    {
      "cell_type": "code",
      "execution_count": 2,
      "metadata": {
        "id": "H_zfjdTdWkz1"
      },
      "outputs": [],
      "source": [
        "spark = SparkSession.builder.getOrCreate()"
      ]
    },
    {
      "cell_type": "code",
      "execution_count": 3,
      "metadata": {
        "id": "Ck9Oo_p8Wkz3"
      },
      "outputs": [],
      "source": [
        "sc = spark.sparkContext"
      ]
    },
    {
      "cell_type": "markdown",
      "metadata": {
        "id": "2w4gU4lzWkz5"
      },
      "source": [
        "Create an RDD from a list of numbers (1,50) using numpy methods"
      ]
    },
    {
      "cell_type": "code",
      "execution_count": 6,
      "metadata": {
        "id": "zYFJJTjqWkz8",
        "outputId": "39747ed3-d4e5-4fc1-ccd0-cb66baac8a59"
      },
      "outputs": [
        {
          "name": "stdout",
          "output_type": "stream",
          "text": [
            "[1, 2, 3, 4, 5, 6, 7, 8, 9, 10, 11, 12, 13, 14, 15, 16, 17, 18, 19, 20, 21, 22, 23, 24, 25, 26, 27, 28, 29, 30, 31, 32, 33, 34, 35, 36, 37, 38, 39, 40, 41, 42, 43, 44, 45, 46, 47, 48, 49]\n"
          ]
        }
      ],
      "source": [
        "numList=np.arange(1,50)\n",
        "rdd=sc.parallelize(numList)\n",
        "result=rdd.collect()\n",
        "print(result)"
      ]
    },
    {
      "cell_type": "markdown",
      "metadata": {
        "id": "7roJeWzuWkz-"
      },
      "source": [
        "Find the sum, average, maximum, minimum, and count"
      ]
    },
    {
      "cell_type": "code",
      "execution_count": 10,
      "metadata": {
        "id": "N1h6z39dWkz_",
        "outputId": "8fe2c0a3-0840-4e80-d2c0-2eff295c8c78"
      },
      "outputs": [
        {
          "data": {
            "text/plain": [
              "1225"
            ]
          },
          "execution_count": 10,
          "metadata": {},
          "output_type": "execute_result"
        }
      ],
      "source": [
        "#Sum\n",
        "rdd.sum()"
      ]
    },
    {
      "cell_type": "code",
      "execution_count": 11,
      "metadata": {
        "id": "AZ81CPMZWk0B",
        "outputId": "448de258-9ea0-41e7-a335-d431408ab9e2"
      },
      "outputs": [
        {
          "data": {
            "text/plain": [
              "25.0"
            ]
          },
          "execution_count": 11,
          "metadata": {},
          "output_type": "execute_result"
        }
      ],
      "source": [
        "#avg\n",
        "rdd.mean()"
      ]
    },
    {
      "cell_type": "code",
      "execution_count": 12,
      "metadata": {
        "id": "CgusBC6NWk0D",
        "outputId": "3c0c88d3-3cab-48f2-98d0-62814835d447"
      },
      "outputs": [
        {
          "data": {
            "text/plain": [
              "49"
            ]
          },
          "execution_count": 12,
          "metadata": {},
          "output_type": "execute_result"
        }
      ],
      "source": [
        "#Count\n",
        "rdd.count()"
      ]
    },
    {
      "cell_type": "code",
      "execution_count": 13,
      "metadata": {
        "id": "LTZW-se4Wk0E",
        "outputId": "4785529e-5d6f-4127-a4a9-d9911b4bd477"
      },
      "outputs": [
        {
          "data": {
            "text/plain": [
              "1"
            ]
          },
          "execution_count": 13,
          "metadata": {},
          "output_type": "execute_result"
        }
      ],
      "source": [
        "#Min\n",
        "rdd.min()"
      ]
    },
    {
      "cell_type": "code",
      "execution_count": 14,
      "metadata": {
        "id": "grIXklPbWk0G",
        "outputId": "cfee1418-5830-4382-e44a-a1a2419a7e1d"
      },
      "outputs": [
        {
          "data": {
            "text/plain": [
              "49"
            ]
          },
          "execution_count": 14,
          "metadata": {},
          "output_type": "execute_result"
        }
      ],
      "source": [
        "#Max\n",
        "rdd.max()"
      ]
    },
    {
      "cell_type": "markdown",
      "metadata": {
        "id": "JB0MVlR2Wk0H"
      },
      "source": [
        "Count how many numbers are even vs. odd."
      ]
    },
    {
      "cell_type": "code",
      "execution_count": 17,
      "metadata": {},
      "outputs": [
        {
          "name": "stdout",
          "output_type": "stream",
          "text": [
            "ODD Numbers: 25  EVEN Numbers: 24\n"
          ]
        }
      ],
      "source": [
        "even_count = rdd.filter(lambda x: x % 2 == 0).count()\n",
        "\n",
        "# Count odds\n",
        "odd_count = rdd.filter(lambda x: x % 2 != 0).count()\n",
        "\n",
        "print(f\"ODD Numbers: {odd_count}  EVEN Numbers: {even_count}\")"
      ]
    },
    {
      "cell_type": "markdown",
      "metadata": {
        "id": "T-Xg2xBpWk0I"
      },
      "source": [
        "You have the following data of people info ('Name', 'Age'), answer the following questions"
      ]
    },
    {
      "cell_type": "code",
      "execution_count": 33,
      "metadata": {
        "id": "miXGI0TYWk0I",
        "outputId": "d78b733f-ef94-4ba1-aec4-61474227e59d"
      },
      "outputs": [
        {
          "name": "stdout",
          "output_type": "stream",
          "text": [
            "[('Nada ', 25), ('Mona', 30), ('Ahmed', 35), ('Khaled', 40), ('Ahmed', 35), ('Nada ', 25)]\n"
          ]
        }
      ],
      "source": [
        "people_data = [(\"Nada \", 25), (\"Mona\", 30), (\"Ahmed\", 35), (\"Khaled\", 40),(\"Ahmed\", 35), ('Nada ', 25)]\n",
        "rdd_people = sc.parallelize(people_data)\n",
        "print(rdd_people.collect())"
      ]
    },
    {
      "cell_type": "markdown",
      "metadata": {
        "id": "sQEYJdI8Wk0J"
      },
      "source": [
        "Find the oldest person"
      ]
    },
    {
      "cell_type": "code",
      "execution_count": 23,
      "metadata": {
        "id": "DpInua_RWk0K",
        "outputId": "514b4d74-6760-4ec0-e871-7d1faf11c737"
      },
      "outputs": [
        {
          "data": {
            "text/plain": [
              "('Khaled', 40)"
            ]
          },
          "execution_count": 23,
          "metadata": {},
          "output_type": "execute_result"
        }
      ],
      "source": [
        "rdd_people.max(key=lambda x: x[1])"
      ]
    },
    {
      "cell_type": "markdown",
      "metadata": {
        "id": "i9Se5WQoWk0K"
      },
      "source": [
        "Compute the average age"
      ]
    },
    {
      "cell_type": "code",
      "execution_count": 36,
      "metadata": {
        "id": "Wd-quVxoWk0L",
        "outputId": "2f23ed26-63d7-49a4-dcec-a7dbd65935ba"
      },
      "outputs": [
        {
          "data": {
            "text/plain": [
              "31.666666666666668"
            ]
          },
          "execution_count": 36,
          "metadata": {},
          "output_type": "execute_result"
        }
      ],
      "source": [
        "ages = rdd_people.map(lambda x: x[1])\n",
        "average_age = ages.mean()\n",
        "average_age"
      ]
    },
    {
      "cell_type": "markdown",
      "metadata": {
        "id": "H9dHzCCTWk0L"
      },
      "source": [
        "Group all the names by their age"
      ]
    },
    {
      "cell_type": "code",
      "execution_count": 37,
      "metadata": {},
      "outputs": [
        {
          "name": "stdout",
          "output_type": "stream",
          "text": [
            "[(40, [('Khaled', 40)]), (25, [('Nada ', 25), ('Nada ', 25)]), (35, [('Ahmed', 35), ('Ahmed', 35)]), (30, [('Mona', 30)])]\n"
          ]
        }
      ],
      "source": [
        "age_keyed = rdd_people.map(lambda x: (x[1], x))\n",
        "\n",
        "# Group by age\n",
        "grouped = age_keyed.groupByKey().mapValues(list)\n",
        "\n",
        "# Collect result\n",
        "result = grouped.collect()\n",
        "print(result)"
      ]
    },
    {
      "cell_type": "code",
      "execution_count": 43,
      "metadata": {
        "id": "TJXA0mOJWk0M",
        "outputId": "2af74b3a-b0d9-48a1-a711-0acabaae342d"
      },
      "outputs": [
        {
          "data": {
            "text/plain": [
              "[(40, [('Khaled', 40)]),\n",
              " (25, [('Nada ', 25), ('Nada ', 25)]),\n",
              " (35, [('Ahmed', 35), ('Ahmed', 35)]),\n",
              " (30, [('Mona', 30)])]"
            ]
          },
          "execution_count": 43,
          "metadata": {},
          "output_type": "execute_result"
        }
      ],
      "source": [
        "age_keyed = rdd_people.map(lambda x: (x[1], x))\n",
        "\n",
        "# Group by age\n",
        "grouped = age_keyed.groupByKey().mapValues(list)\n",
        "grouped.collect()\n"
      ]
    },
    {
      "cell_type": "markdown",
      "metadata": {
        "id": "wXUJLaDVWk0M"
      },
      "source": [
        "Take the following text and put it in a text file named russia.txt and load it into rdd\n",
        "\n",
        "\"Russia is the largest country in the world by land area\n",
        "Moscow is the capital city of Russia\n",
        "The Russian language is one of the most widely spoken languages in the world\n",
        "Russia is known for its rich history and culture\n",
        "The Trans-Siberian Railway is the longest railway line in the world\n",
        "Russia has a strong tradition in literature, music and ballet\n",
        "The country is famous for its cold winters and vast landscapes\n",
        "Russia is a major player in global energy production\n",
        "\""
      ]
    },
    {
      "cell_type": "code",
      "execution_count": 47,
      "metadata": {
        "id": "zO850wD4Wk0N",
        "outputId": "fd598c3b-fc12-49f6-d3cd-f0834145ebbd"
      },
      "outputs": [
        {
          "data": {
            "text/plain": [
              "['Russia is the largest country in the world by land area',\n",
              " 'Moscow is the capital city of Russia',\n",
              " 'The Russian language is one of the most widely spoken languages in the world',\n",
              " 'Russia is known for its rich history and culture',\n",
              " 'The Trans-Siberian Railway is the longest railway line in the world',\n",
              " 'Russia has a strong tradition in literature, music and ballet',\n",
              " 'The country is famous for its cold winters and vast landscapes',\n",
              " 'Russia is a major player in global energy production']"
            ]
          },
          "execution_count": 47,
          "metadata": {},
          "output_type": "execute_result"
        }
      ],
      "source": [
        "rdd_russia = sc.textFile(\"/data/russia.txt\")\n",
        "rdd_russia.collect()"
      ]
    },
    {
      "cell_type": "markdown",
      "metadata": {
        "id": "uMv054vNWk0O"
      },
      "source": [
        "Count the total number of lines."
      ]
    },
    {
      "cell_type": "code",
      "execution_count": 48,
      "metadata": {
        "id": "ihveWztVWk0O",
        "outputId": "703c6561-c400-4db9-d516-ab8e615d3c51"
      },
      "outputs": [
        {
          "data": {
            "text/plain": [
              "8"
            ]
          },
          "execution_count": 48,
          "metadata": {},
          "output_type": "execute_result"
        }
      ],
      "source": [
        "rdd_russia.count()"
      ]
    },
    {
      "cell_type": "markdown",
      "metadata": {
        "id": "HXhSlx5BWk0P"
      },
      "source": [
        "Count how many lines contain the word \"Russia\""
      ]
    },
    {
      "cell_type": "code",
      "execution_count": null,
      "metadata": {},
      "outputs": [
        {
          "data": {
            "text/plain": [
              "6"
            ]
          },
          "execution_count": 51,
          "metadata": {},
          "output_type": "execute_result"
        }
      ],
      "source": [
        "count_russia = rdd_russia.filter(lambda line: \"Russia\" in line).count()\n",
        "count_russia"
      ]
    },
    {
      "cell_type": "markdown",
      "metadata": {
        "id": "9X7mcROMWk0Q"
      },
      "source": [
        "Find the most 5 frequent word in the file."
      ]
    },
    {
      "cell_type": "code",
      "execution_count": 54,
      "metadata": {
        "id": "TpY1FIzoWk0Q",
        "outputId": "047235f1-6955-48b3-9a47-736f741290bc"
      },
      "outputs": [
        {
          "name": "stdout",
          "output_type": "stream",
          "text": [
            "[('the', 10), ('is', 7), ('russia', 5), ('in', 5), ('world', 3)]\n"
          ]
        }
      ],
      "source": [
        "words = rdd_russia.flatMap(lambda line: line.lower().split())\n",
        "word_counts = words.map(lambda w: (w, 1)) \\\n",
        "                   .reduceByKey(lambda x, y: x + y)\n",
        "top5 = word_counts.takeOrdered(5, key=lambda x: -x[1])\n",
        "print(top5)"
      ]
    },
    {
      "cell_type": "markdown",
      "metadata": {
        "id": "Hj0ZnBBIWk0R"
      },
      "source": [
        "Tokenize words"
      ]
    },
    {
      "cell_type": "code",
      "execution_count": 55,
      "metadata": {
        "id": "HWyHpT8fWk0R",
        "outputId": "e75107b1-3489-49d4-a159-4acb6a5c4a64"
      },
      "outputs": [
        {
          "name": "stdout",
          "output_type": "stream",
          "text": [
            "['russia', 'is', 'the', 'largest', 'country', 'in', 'the', 'world', 'by', 'land', 'area', 'moscow', 'is', 'the', 'capital', 'city', 'of', 'russia', 'the', 'russian', 'language', 'is', 'one', 'of', 'the', 'most', 'widely', 'spoken', 'languages', 'in', 'the', 'world', 'russia', 'is', 'known', 'for', 'its', 'rich', 'history', 'and', 'culture', 'the', 'trans-siberian', 'railway', 'is', 'the', 'longest', 'railway', 'line', 'in', 'the', 'world', 'russia', 'has', 'a', 'strong', 'tradition', 'in', 'literature,', 'music', 'and', 'ballet', 'the', 'country', 'is', 'famous', 'for', 'its', 'cold', 'winters', 'and', 'vast', 'landscapes', 'russia', 'is', 'a', 'major', 'player', 'in', 'global', 'energy', 'production']\n"
          ]
        }
      ],
      "source": [
        "print(words.collect())"
      ]
    },
    {
      "cell_type": "markdown",
      "metadata": {
        "id": "2TfP2dFcWk0S"
      },
      "source": [
        "Remove stopwords (a, the, is, to, in, of)."
      ]
    },
    {
      "cell_type": "code",
      "execution_count": 56,
      "metadata": {
        "id": "HBKERfC3Wk0S",
        "outputId": "178a7e1b-cb59-48af-c22d-c29ce00e4bc3"
      },
      "outputs": [
        {
          "name": "stdout",
          "output_type": "stream",
          "text": [
            "['russia', 'largest', 'country', 'world', 'by', 'land', 'area', 'moscow', 'capital', 'city', 'russia', 'russian', 'language', 'one', 'most', 'widely', 'spoken', 'languages', 'world', 'russia', 'known', 'for', 'its', 'rich', 'history', 'and', 'culture', 'trans-siberian', 'railway', 'longest', 'railway', 'line', 'world', 'russia', 'has', 'strong', 'tradition', 'literature,', 'music', 'and', 'ballet', 'country', 'famous', 'for', 'its', 'cold', 'winters', 'and', 'vast', 'landscapes', 'russia', 'major', 'player', 'global', 'energy', 'production']\n"
          ]
        }
      ],
      "source": [
        "stopwords = {\"a\", \"the\", \"is\", \"to\", \"in\", \"of\"}\n",
        "filtered_words = words.filter(lambda w: w not in stopwords)\n",
        "print(filtered_words.collect())"
      ]
    },
    {
      "cell_type": "markdown",
      "metadata": {
        "id": "TqXPmxh-Wk0T"
      },
      "source": [
        "Count the frequency of each word"
      ]
    },
    {
      "cell_type": "code",
      "execution_count": 57,
      "metadata": {
        "id": "mdqCMfxjWk0T",
        "outputId": "225d220f-8bc3-4bbc-9b0f-a286166df2f6"
      },
      "outputs": [
        {
          "name": "stdout",
          "output_type": "stream",
          "text": [
            "[('largest', 1), ('country', 2), ('world', 3), ('by', 1), ('land', 1), ('area', 1), ('capital', 1), ('russian', 1), ('language', 1), ('most', 1), ('widely', 1), ('known', 1), ('for', 2), ('history', 1), ('and', 3), ('line', 1), ('literature,', 1), ('music', 1), ('famous', 1), ('cold', 1), ('winters', 1), ('landscapes', 1), ('player', 1), ('energy', 1), ('production', 1), ('russia', 5), ('moscow', 1), ('city', 1), ('one', 1), ('spoken', 1), ('languages', 1), ('its', 2), ('rich', 1), ('culture', 1), ('trans-siberian', 1), ('railway', 2), ('longest', 1), ('has', 1), ('strong', 1), ('tradition', 1), ('ballet', 1), ('vast', 1), ('major', 1), ('global', 1)]\n"
          ]
        }
      ],
      "source": [
        "filtered_counts = filtered_words.map(lambda w: (w, 1)) \\\n",
        "                                .reduceByKey(lambda x, y: x + y)\n",
        "\n",
        "print(filtered_counts.collect())\n"
      ]
    },
    {
      "cell_type": "code",
      "execution_count": 58,
      "metadata": {
        "id": "ZBBJoGN1Wk0V"
      },
      "outputs": [],
      "source": [
        "schema = 'id integer, name string, age integer, salary integer'\n",
        "data = [\n",
        "    (1, \"Ali\", 25, 4000),\n",
        "    (2, \"Mariam\", 30, 6000),\n",
        "    (3, \"Omar\", 35, 7000),\n",
        "    (4, \"Sara\", 28, 5000),\n",
        "    (5, \"Omar\", 25, 6500),\n",
        "    (6, \"Mariam\", 26, 7500)\n",
        "]\n",
        "\n",
        "df = spark.createDataFrame(data,schema)"
      ]
    },
    {
      "cell_type": "markdown",
      "metadata": {
        "id": "0MvSgNd0Wk0V"
      },
      "source": [
        "Show schema and first 2 rows"
      ]
    },
    {
      "cell_type": "code",
      "execution_count": null,
      "metadata": {
        "id": "oW4mlvxVWk0W",
        "outputId": "0cc95861-2e78-4451-8f99-81b386e687dd"
      },
      "outputs": [
        {
          "name": "stdout",
          "output_type": "stream",
          "text": [
            "root\n",
            " |-- id: integer (nullable = true)\n",
            " |-- name: string (nullable = true)\n",
            " |-- age: integer (nullable = true)\n",
            " |-- salary: integer (nullable = true)\n",
            "\n",
            "+---+------+---+------+\n",
            "| id|  name|age|salary|\n",
            "+---+------+---+------+\n",
            "|  1|   Ali| 25|  4000|\n",
            "|  2|Mariam| 30|  6000|\n",
            "+---+------+---+------+\n",
            "only showing top 2 rows\n",
            "\n"
          ]
        }
      ],
      "source": [
        "# Show the schema\n",
        "df.printSchema()\n",
        "\n",
        "# Show first 2 rows\n",
        "df.show(2)\n"
      ]
    },
    {
      "cell_type": "markdown",
      "metadata": {
        "id": "y0tgW0I0Wk0W"
      },
      "source": [
        "Select only name and salary"
      ]
    },
    {
      "cell_type": "code",
      "execution_count": 62,
      "metadata": {},
      "outputs": [
        {
          "name": "stdout",
          "output_type": "stream",
          "text": [
            "+------+------+\n",
            "|  name|salary|\n",
            "+------+------+\n",
            "|   Ali|  4000|\n",
            "|Mariam|  6000|\n",
            "|  Omar|  7000|\n",
            "|  Sara|  5000|\n",
            "|  Omar|  6500|\n",
            "|Mariam|  7500|\n",
            "+------+------+\n",
            "\n"
          ]
        }
      ],
      "source": [
        "df[\"name\",\"salary\"].show()"
      ]
    },
    {
      "cell_type": "markdown",
      "metadata": {
        "id": "jQdIL3DLWk0k"
      },
      "source": [
        "Find the average salary"
      ]
    },
    {
      "cell_type": "code",
      "execution_count": 67,
      "metadata": {
        "id": "t7Wq4nmJWk0l",
        "outputId": "9ee2b41d-eb7c-4d82-ead5-2df03605a7f9"
      },
      "outputs": [
        {
          "name": "stdout",
          "output_type": "stream",
          "text": [
            "+-----------+\n",
            "|avg(salary)|\n",
            "+-----------+\n",
            "|     6000.0|\n",
            "+-----------+\n",
            "\n"
          ]
        }
      ],
      "source": [
        "from pyspark.sql.functions import avg\n",
        "df.select(avg(\"salary\")).show()"
      ]
    },
    {
      "cell_type": "markdown",
      "metadata": {
        "id": "Ujlvqc73Wk0l"
      },
      "source": [
        "Filter employees older than 28"
      ]
    },
    {
      "cell_type": "code",
      "execution_count": null,
      "metadata": {
        "id": "Z9D60rVBWk0m",
        "outputId": "0a83ed59-f641-4adf-a89c-ec7053b329c0"
      },
      "outputs": [
        {
          "name": "stdout",
          "output_type": "stream",
          "text": [
            "+---+------+---+------+\n",
            "| id|  name|age|salary|\n",
            "+---+------+---+------+\n",
            "|  2|Mariam| 30|  6000|\n",
            "|  3|  Omar| 35|  7000|\n",
            "+---+------+---+------+\n",
            "\n"
          ]
        }
      ],
      "source": [
        "df.filter(df.age > 28).show()"
      ]
    },
    {
      "cell_type": "markdown",
      "metadata": {
        "id": "hChYg3NcWk0m"
      },
      "source": [
        "Count distinct values in the name column"
      ]
    },
    {
      "cell_type": "code",
      "execution_count": 73,
      "metadata": {
        "id": "EMrtn6xLWk0n",
        "outputId": "5c4c82d2-454b-47e1-dcf0-c2ca6fd8c3ef"
      },
      "outputs": [
        {
          "name": "stdout",
          "output_type": "stream",
          "text": [
            "4\n"
          ]
        }
      ],
      "source": [
        "from pyspark.sql.functions import countDistinct\n",
        "\n",
        "result = df.select(countDistinct(\"name\")).collect()[0][0]\n",
        "print(result)\n"
      ]
    },
    {
      "cell_type": "markdown",
      "metadata": {
        "id": "mIbiJnFuWk0n"
      },
      "source": [
        "Group by a the name column and find average salary"
      ]
    },
    {
      "cell_type": "code",
      "execution_count": 74,
      "metadata": {
        "id": "1r16Ja8uWk0o",
        "outputId": "598217a3-4cf5-493a-949e-d54d34333806"
      },
      "outputs": [
        {
          "name": "stdout",
          "output_type": "stream",
          "text": [
            "+------+-------+\n",
            "|  name|Agerage|\n",
            "+------+-------+\n",
            "|   Ali| 4000.0|\n",
            "|Mariam| 6750.0|\n",
            "|  Omar| 6750.0|\n",
            "|  Sara| 5000.0|\n",
            "+------+-------+\n",
            "\n"
          ]
        }
      ],
      "source": [
        "from pyspark.sql.functions import avg\n",
        "\n",
        "df.groupBy(\"name\").agg(avg(\"salary\").alias(\"Agerage\")).show()\n"
      ]
    },
    {
      "cell_type": "code",
      "execution_count": 75,
      "metadata": {
        "id": "gMxwn4CwWk0o",
        "outputId": "bd3be97a-fbe3-491a-a90a-bdf563013ae3"
      },
      "outputs": [
        {
          "name": "stdout",
          "output_type": "stream",
          "text": [
            "+----+-----+-----+\n",
            "|  Id| Name|Sales|\n",
            "+----+-----+-----+\n",
            "|emp1| John| NULL|\n",
            "|emp2| NULL| NULL|\n",
            "|emp3| NULL|345.0|\n",
            "|emp4|Cindy|456.0|\n",
            "+----+-----+-----+\n",
            "\n"
          ]
        }
      ],
      "source": [
        "df1 = spark.read.csv(\"/data/NullData.csv\", header=True, inferSchema=True) #this file in shared folder\n",
        "df1.show()"
      ]
    },
    {
      "cell_type": "markdown",
      "metadata": {
        "id": "Pterd9aXWk0p"
      },
      "source": [
        "Find the avg sales"
      ]
    },
    {
      "cell_type": "code",
      "execution_count": 76,
      "metadata": {
        "id": "MVcd9aNXWk0p",
        "outputId": "1082f7d3-46a2-429b-f119-05bf2b323294"
      },
      "outputs": [
        {
          "name": "stdout",
          "output_type": "stream",
          "text": [
            "400.5\n"
          ]
        }
      ],
      "source": [
        "avg_sales = df1.select(avg(\"sales\")).collect()[0][0]\n",
        "print(avg_sales)\n"
      ]
    },
    {
      "cell_type": "markdown",
      "metadata": {
        "id": "iuqTR83vWk0q"
      },
      "source": [
        "Replace null name with 'Unknown' and sales with the avg sales of the column"
      ]
    },
    {
      "cell_type": "code",
      "execution_count": 77,
      "metadata": {
        "id": "ut5hgiaPWk0q",
        "outputId": "274c7651-711d-4ec6-f794-4e8120d19b81"
      },
      "outputs": [
        {
          "name": "stdout",
          "output_type": "stream",
          "text": [
            "+----+-------+-----+\n",
            "|  Id|   name|sales|\n",
            "+----+-------+-----+\n",
            "|emp1|   John|400.5|\n",
            "|emp2|Unknown|400.5|\n",
            "|emp3|Unknown|345.0|\n",
            "|emp4|  Cindy|456.0|\n",
            "+----+-------+-----+\n",
            "\n"
          ]
        }
      ],
      "source": [
        "from pyspark.sql.functions import when, col\n",
        "\n",
        "df1_cleaned = df1.withColumn(\n",
        "    \"name\",\n",
        "    when(col(\"name\").isNull(), \"Unknown\").otherwise(col(\"name\"))\n",
        ").withColumn(\n",
        "    \"sales\",\n",
        "    when(col(\"sales\").isNull(), avg_sales).otherwise(col(\"sales\"))\n",
        ")\n",
        "\n",
        "df1_cleaned.show()\n"
      ]
    }
  ],
  "metadata": {
    "anaconda-cloud": {},
    "colab": {
      "provenance": []
    },
    "kernelspec": {
      "display_name": "Python 3 (ipykernel)",
      "language": "python",
      "name": "python3"
    },
    "language_info": {
      "codemirror_mode": {
        "name": "ipython",
        "version": 3
      },
      "file_extension": ".py",
      "mimetype": "text/x-python",
      "name": "python",
      "nbconvert_exporter": "python",
      "pygments_lexer": "ipython3",
      "version": "3.11.6"
    }
  },
  "nbformat": 4,
  "nbformat_minor": 0
}
